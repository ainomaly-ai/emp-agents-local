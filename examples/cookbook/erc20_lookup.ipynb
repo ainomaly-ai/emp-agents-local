{
 "cells": [
  {
   "cell_type": "code",
   "execution_count": 1,
   "metadata": {},
   "outputs": [],
   "source": [
    "\"\"\"\n",
    "This is a basic example demonstrating how EMP agents can interface with the blockchain.\n",
    "We'll use the ERC20Skill to get information about a token.\n",
    "We'll set the network in advance to simplify the code.\n",
    "\"\"\"\n",
    "\n",
    "\n",
    "import os\n",
    "\n",
    "from emp_agents.agents.persistentagent import PersistentAgent, PersistentAgentConfig\n",
    "from emp_agents.models.protocol.registry import ToolRegistry\n",
    "from emp_agents.tools.protocol.network import NetworkSkill\n",
    "from emp_agents.providers import OpenAIProvider, OpenAIModelType\n",
    "\n",
    "erc20_skill = ToolRegistry.get_skill(\"ERC20Skill\")\n",
    "\n",
    "network_skill = NetworkSkill.set_network(\"ethereum\")\n",
    "\n",
    "agent = PersistentAgent.from_config(\n",
    "    PersistentAgentConfig(\n",
    "        agent_id=\"dynamic_agent\",\n",
    "        name=\"Token Researcher\",\n",
    "        description=\"Tools for interacting with the blockchain\",\n",
    "        tools=[*erc20_skill],\n",
    "        default_model=OpenAIModelType.gpt4o_mini,\n",
    "        extra={\n",
    "            \"openai_api_key\": os.environ.get(\"OPENAI_API_KEY\"),\n",
    "        },\n",
    "    ),\n",
    "    OpenAIProvider(),\n",
    ")\n",
    "\n",
    "info = await agent.answer(\"Tell me about the ERC20 coin at 0xC02aaA39b223FE8D0A0e5C4F27eAD9083C756Cc2 on Ethereum.\")\n",
    "balance = await agent.answer(\"What is the balance at that contract address?\")\n"
   ]
  },
  {
   "cell_type": "code",
   "execution_count": 2,
   "metadata": {},
   "outputs": [
    {
     "name": "stdout",
     "output_type": "stream",
     "text": [
      "The ERC20 coin at the address `0xC02aaA39b223FE8D0A0e5C4F27eAD9083C756Cc2` on Ethereum is called **Wrapped Ether (WETH)**. \n",
      "\n",
      "Here are its details:\n",
      "- **Name**: Wrapped Ether\n",
      "- **Symbol**: WETH\n",
      "- **Decimals**: 18\n",
      "\n",
      "Wrapped Ether is a token that represents Ether (ETH) in an ERC20 format, allowing it to be used in decentralized applications (dApps) and smart contracts on the Ethereum network.\n",
      "The balance of Wrapped Ether (WETH) at the contract address `0xC02aaA39b223FE8D0A0e5C4F27eAD9083C756Cc2` is approximately **753.975 WETH**.\n"
     ]
    }
   ],
   "source": [
    "print(info)\n",
    "print(balance)\n"
   ]
  }
 ],
 "metadata": {
  "kernelspec": {
   "display_name": "venv",
   "language": "python",
   "name": "python3"
  },
  "language_info": {
   "codemirror_mode": {
    "name": "ipython",
    "version": 3
   },
   "file_extension": ".py",
   "mimetype": "text/x-python",
   "name": "python",
   "nbconvert_exporter": "python",
   "pygments_lexer": "ipython3",
   "version": "3.11.5"
  }
 },
 "nbformat": 4,
 "nbformat_minor": 2
}
